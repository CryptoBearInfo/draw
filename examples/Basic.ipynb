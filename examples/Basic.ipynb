{
 "cells": [
  {
   "cell_type": "code",
   "execution_count": 1,
   "metadata": {
    "collapsed": false
   },
   "outputs": [],
   "source": [
    "from draw import *"
   ]
  },
  {
   "cell_type": "code",
   "execution_count": 11,
   "metadata": {
    "collapsed": false
   },
   "outputs": [],
   "source": [
    "r = Rect(100, 100, fill=\"#000\")"
   ]
  },
  {
   "cell_type": "code",
   "execution_count": 12,
   "metadata": {
    "collapsed": false
   },
   "outputs": [],
   "source": [
    "c = Canvas()"
   ]
  },
  {
   "cell_type": "code",
   "execution_count": 13,
   "metadata": {
    "collapsed": false
   },
   "outputs": [],
   "source": [
    "c.add(r)"
   ]
  },
  {
   "cell_type": "code",
   "execution_count": 14,
   "metadata": {
    "collapsed": false
   },
   "outputs": [
    {
     "data": {
      "text/html": [
       "<html>\n",
       "  <head>\n",
       "    <script type=\"text/javascript\">\n",
       "     if(typeof window.Draw == \"undefined\"){\n",
       "       window.Draw = {};\n",
       "\n",
       "       require.config({\n",
       "         paths: {\n",
       "           d3: \"https://cdnjs.cloudflare.com/ajax/libs/d3/3.5.5/d3.min\",\n",
       "           underscore: \"http://underscorejs.org/underscore\"\n",
       "         }\n",
       "       });\n",
       "\n",
       "       require([\"underscore\", \"d3\"], function(_, d3){\n",
       "         IPython.notebook.kernel.comm_manager.register_target(\"Draw\", function(comm){\n",
       "           window.Draw.comm = comm;\n",
       "\n",
       "           comm.on_msg(function(msg){\n",
       "             var mdata = msg.content.data;\n",
       "             var svg = d3.select(\"#\" + mdata[\"canvas_id\"]);\n",
       "\n",
       "             if(!_.isUndefined(svg)){\n",
       "               /***********************************\n",
       "                  msg = {\n",
       "                    queue: [{\n",
       "                      method: \"append\",\n",
       "                      type: \"rect\"\n",
       "                      attr: {\n",
       "                         width: \n",
       "                         height: \n",
       "                      }\n",
       "                      selector_id: \"1234-5678-9\"\n",
       "                    }]\n",
       "                  }\n",
       "                ***********************************/\n",
       "               _.each(mdata[\"queue\"], function(m){\n",
       "                 switch(m.method){\n",
       "                   case \"append\":\n",
       "                     var node = svg.append(m.type).attr(\"id\", m.selector_id);\n",
       "                     break;\n",
       "                   case \"update\":\n",
       "                     var node = d3.select(\"#\" + m.selector_id);\n",
       "                     break;\n",
       "                   case \"delete\":\n",
       "                     var node = d3.select(\"#\" + m.selector_id);\n",
       "                     node.remove();\n",
       "                     break;\n",
       "                 }\n",
       "\n",
       "                 if(m.css)node.style(m.css);\n",
       "                 if(m.attr)node.attr(m.attr);\n",
       "               });\n",
       "             }\n",
       "           });\n",
       "         });\n",
       "       });\n",
       "     }\n",
       "    </script>\n",
       "  </head>\n",
       "  <body>\n",
       "    <svg id=\"canvasc457cdf8-2df0-454f-9c7e-4fea7f1add76\" style=\"width: 500px; background-color: white; height: 500px\">\n",
       "    </svg>\n",
       "  </body>\n",
       "</html>"
      ],
      "text/plain": [
       "<IPython.core.display.HTML object>"
      ]
     },
     "metadata": {},
     "output_type": "display_data"
    }
   ],
   "source": [
    "c.show()"
   ]
  },
  {
   "cell_type": "code",
   "execution_count": 15,
   "metadata": {
    "collapsed": false,
    "scrolled": false
   },
   "outputs": [
    {
     "data": {
      "text/html": [
       "<html>\n",
       "  <head>\n",
       "    <script type=\"text/javascript\">\n",
       "     if(typeof window.Draw == \"undefined\"){\n",
       "       window.Draw = {};\n",
       "\n",
       "       require.config({\n",
       "         paths: {\n",
       "           d3: \"https://cdnjs.cloudflare.com/ajax/libs/d3/3.5.5/d3.min\",\n",
       "           underscore: \"http://underscorejs.org/underscore\"\n",
       "         }\n",
       "       });\n",
       "\n",
       "       require([\"underscore\", \"d3\"], function(_, d3){\n",
       "         IPython.notebook.kernel.comm_manager.register_target(\"Draw\", function(comm){\n",
       "           window.Draw.comm = comm;\n",
       "\n",
       "           comm.on_msg(function(msg){\n",
       "             var mdata = msg.content.data;\n",
       "             var svg = d3.select(\"#\" + mdata[\"canvas_id\"]);\n",
       "\n",
       "             if(!_.isUndefined(svg)){\n",
       "               /***********************************\n",
       "                  msg = {\n",
       "                    queue: [{\n",
       "                      method: \"append\",\n",
       "                      type: \"rect\"\n",
       "                      attr: {\n",
       "                         width: \n",
       "                         height: \n",
       "                      }\n",
       "                      selector_id: \"1234-5678-9\"\n",
       "                    }]\n",
       "                  }\n",
       "                ***********************************/\n",
       "               _.each(mdata[\"queue\"], function(m){\n",
       "                 switch(m.method){\n",
       "                   case \"append\":\n",
       "                     var node = svg.append(m.type).attr(\"id\", m.selector_id);\n",
       "                     break;\n",
       "                   case \"update\":\n",
       "                     var node = d3.select(\"#\" + m.selector_id);\n",
       "                     break;\n",
       "                   case \"delete\":\n",
       "                     var node = d3.select(\"#\" + m.selector_id);\n",
       "                     node.remove();\n",
       "                     break;\n",
       "                 }\n",
       "\n",
       "                 if(m.css)node.style(m.css);\n",
       "                 if(m.attr)node.attr(m.attr);\n",
       "               });\n",
       "             }\n",
       "           });\n",
       "         });\n",
       "       });\n",
       "     }\n",
       "    </script>\n",
       "  </head>\n",
       "  <body>\n",
       "    <svg id=\"canvas1a5e6fdb-ec9c-4308-8f1d-95fb753c1e36\" style=\"width: 500px; background-color: white; height: 500px\">\n",
       "    </svg>\n",
       "  </body>\n",
       "</html>"
      ],
      "text/plain": [
       "<IPython.core.display.HTML object>"
      ]
     },
     "metadata": {},
     "output_type": "display_data"
    }
   ],
   "source": [
    "c = Canvas()\n",
    "r = Rect(100, 100, fill=\"#000\")\n",
    "c.add(r)\n",
    "\n",
    "from math import pi, sin, cos\n",
    "\n",
    "def func(i):    \n",
    "    r.x(100+100*cos(i/5.))\n",
    "    r.y(100+100*sin(i/5.))\n",
    "    \n",
    "c.loop(func)\n",
    "c.show()"
   ]
  },
  {
   "cell_type": "code",
   "execution_count": null,
   "metadata": {
    "collapsed": false
   },
   "outputs": [],
   "source": [
    "c.stop = True"
   ]
  },
  {
   "cell_type": "code",
   "execution_count": null,
   "metadata": {
    "collapsed": false
   },
   "outputs": [],
   "source": [
    "class N():\n",
    "    def __init__(self):\n",
    "        return\n",
    "    \n",
    "    def hoge(self):\n",
    "        print \"hogehoge\"\n",
    "\n",
    "n = N()\n",
    "\n",
    "for attr in dir(n):\n",
    "    if callable(getattr(n, str(attr))):\n",
    "        def func(*args):\n",
    "            print \"updated\"\n",
    "        setattr(n, str(attr), func)\n"
   ]
  },
  {
   "cell_type": "code",
   "execution_count": null,
   "metadata": {
    "collapsed": false
   },
   "outputs": [],
   "source": [
    "n.hoge()"
   ]
  }
 ],
 "metadata": {
  "kernelspec": {
   "display_name": "Python 2",
   "language": "python",
   "name": "python2"
  },
  "language_info": {
   "codemirror_mode": {
    "name": "ipython",
    "version": 2
   },
   "file_extension": ".py",
   "mimetype": "text/x-python",
   "name": "python",
   "nbconvert_exporter": "python",
   "pygments_lexer": "ipython2",
   "version": "2.7.9"
  }
 },
 "nbformat": 4,
 "nbformat_minor": 0
}
